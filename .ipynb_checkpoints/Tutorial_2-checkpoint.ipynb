{
 "cells": [
  {
   "cell_type": "code",
   "execution_count": null,
   "id": "cadabd96-5f59-4f61-868a-e87615358a00",
   "metadata": {},
   "outputs": [],
   "source": [
    "## Use shapefiles to extract TWS within the basin"
   ]
  },
  {
   "cell_type": "code",
   "execution_count": null,
   "id": "28902bb3-99de-48bf-aabf-f624e8d0e768",
   "metadata": {},
   "outputs": [],
   "source": [
    "## Applications of satellite gravimetry "
   ]
  },
  {
   "cell_type": "code",
   "execution_count": null,
   "id": "8c324f86-f14a-4d54-b37b-d75af5c1cb4b",
   "metadata": {},
   "outputs": [],
   "source": [
    "Try to create 3 time series for Amazon, Nile and Ganga River Basins\n",
    "\n",
    "Explain what you see in the time series. Do you see specific extreme events happening?\n",
    "\n",
    "Can you see a difference between the different locations? Try to find an explanation of what you're seeing.\n",
    "\n",
    "Can you think of another application of the TWS time series? \n",
    "\n",
    "What are the impacts of climate change on water storage?\n",
    "\n",
    "\n",
    "How to monitor groundwater from GRCAE"
   ]
  }
 ],
 "metadata": {
  "kernelspec": {
   "display_name": "pyshh",
   "language": "python",
   "name": "pyshh"
  },
  "language_info": {
   "codemirror_mode": {
    "name": "ipython",
    "version": 3
   },
   "file_extension": ".py",
   "mimetype": "text/x-python",
   "name": "python",
   "nbconvert_exporter": "python",
   "pygments_lexer": "ipython3",
   "version": "3.8.10"
  }
 },
 "nbformat": 4,
 "nbformat_minor": 5
}
